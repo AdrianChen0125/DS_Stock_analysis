{
  "cells": [
    {
      "cell_type": "code",
      "source": [
        "!pip install vaderSentiment langdetect emoji nltk vaderSentiment"
      ],
      "outputs": [
        {
          "output_type": "display_data",
          "data": {
            "application/vnd.livy.statement-meta+json": {
              "spark_pool": "spark0623",
              "session_id": "23",
              "statement_id": 3,
              "statement_ids": [
                3
              ],
              "state": "finished",
              "livy_statement_state": "available",
              "queued_time": "2024-06-23T14:45:29.3312277Z",
              "session_start_time": null,
              "execution_start_time": "2024-06-23T14:45:29.4870578Z",
              "execution_finish_time": "2024-06-23T14:45:46.5521375Z",
              "spark_jobs": null,
              "parent_msg_id": "e5006219-b862-4248-aa17-a2f33a02cab4"
            },
            "text/plain": "StatementMeta(spark0623, 23, 3, Finished, Available)"
          },
          "metadata": {}
        },
        {
          "output_type": "stream",
          "name": "stdout",
          "text": [
            "Collecting vaderSentiment\n  Downloading vaderSentiment-3.3.2-py2.py3-none-any.whl (125 kB)\n\u001b[2K     \u001b[90m━━━━━━━━━━━━━━━━━━━━━━━━━━━━━━━━━━━━━━━\u001b[0m \u001b[32m126.0/126.0 kB\u001b[0m \u001b[31m1.6 MB/s\u001b[0m eta \u001b[36m0:00:00\u001b[0m00:01\u001b[0m00:01\u001b[0m\n\u001b[?25hCollecting langdetect\n  Downloading langdetect-1.0.9.tar.gz (981 kB)\n\u001b[2K     \u001b[90m━━━━━━━━━━━━━━━━━━━━━━━━━━━━━━━━━━━━━━\u001b[0m \u001b[32m981.5/981.5 kB\u001b[0m \u001b[31m10.6 MB/s\u001b[0m eta \u001b[36m0:00:00\u001b[0ma \u001b[36m0:00:01\u001b[0m\n\u001b[?25h  Preparing metadata (setup.py) ... \u001b[?25l-\b \bdone\n\u001b[?25hCollecting emoji\n  Downloading emoji-2.12.1-py3-none-any.whl (431 kB)\n\u001b[2K     \u001b[90m━━━━━━━━━━━━━━━━━━━━━━━━━━━━━━━━━━━━━━\u001b[0m \u001b[32m431.4/431.4 kB\u001b[0m \u001b[31m64.0 MB/s\u001b[0m eta \u001b[36m0:00:00\u001b[0m\n\u001b[?25hCollecting nltk\n  Downloading nltk-3.8.1-py3-none-any.whl (1.5 MB)\n\u001b[2K     \u001b[90m━━━━━━━━━━━━━━━━━━━━━━━━━━━━━━━━━━━━━━━━\u001b[0m \u001b[32m1.5/1.5 MB\u001b[0m \u001b[31m33.2 MB/s\u001b[0m eta \u001b[36m0:00:00\u001b[0ma \u001b[36m0:00:01\u001b[0m\n\u001b[?25hRequirement already satisfied: requests in /home/trusted-service-user/cluster-env/env/lib/python3.10/site-packages (from vaderSentiment) (2.31.0)\nRequirement already satisfied: six in /home/trusted-service-user/cluster-env/env/lib/python3.10/site-packages (from langdetect) (1.16.0)\nRequirement already satisfied: typing-extensions>=4.7.0 in /home/trusted-service-user/cluster-env/env/lib/python3.10/site-packages (from emoji) (4.10.0)\nRequirement already satisfied: click in /home/trusted-service-user/cluster-env/env/lib/python3.10/site-packages (from nltk) (8.1.7)\nRequirement already satisfied: joblib in /home/trusted-service-user/cluster-env/env/lib/python3.10/site-packages (from nltk) (1.3.2)\nRequirement already satisfied: regex>=2021.8.3 in /home/trusted-service-user/cluster-env/env/lib/python3.10/site-packages (from nltk) (2023.12.25)\nRequirement already satisfied: tqdm in /home/trusted-service-user/cluster-env/env/lib/python3.10/site-packages (from nltk) (4.66.2)\nRequirement already satisfied: charset-normalizer<4,>=2 in /home/trusted-service-user/cluster-env/env/lib/python3.10/site-packages (from requests->vaderSentiment) (3.3.2)\nRequirement already satisfied: idna<4,>=2.5 in /home/trusted-service-user/cluster-env/env/lib/python3.10/site-packages (from requests->vaderSentiment) (3.6)\nRequirement already satisfied: urllib3<3,>=1.21.1 in /home/trusted-service-user/cluster-env/env/lib/python3.10/site-packages (from requests->vaderSentiment) (2.1.0)\nRequirement already satisfied: certifi>=2017.4.17 in /home/trusted-service-user/cluster-env/env/lib/python3.10/site-packages (from requests->vaderSentiment) (2024.2.2)\nBuilding wheels for collected packages: langdetect\n  Building wheel for langdetect (setup.py) ... \u001b[?25l-\b \b\\\b \b|\b \b/\b \b-\b \b\\\b \bdone\n\u001b[?25h  Created wheel for langdetect: filename=langdetect-1.0.9-py3-none-any.whl size=993225 sha256=c42624c9e70dac6cf0e078ddcc17f0434c0317dd0e751da0fe971e43cd180c50\n  Stored in directory: /home/trusted-service-user/.cache/pip/wheels/95/03/7d/59ea870c70ce4e5a370638b5462a7711ab78fba2f655d05106\nSuccessfully built langdetect\nInstalling collected packages: nltk, langdetect, emoji, vaderSentiment\nSuccessfully installed emoji-2.12.1 langdetect-1.0.9 nltk-3.8.1 vaderSentiment-3.3.2\n"
          ]
        }
      ],
      "execution_count": 30,
      "metadata": {
        "jupyter": {
          "source_hidden": false,
          "outputs_hidden": false
        },
        "nteract": {
          "transient": {
            "deleting": false
          }
        }
      }
    },
    {
      "cell_type": "code",
      "source": [
        "from pyspark.sql.functions import udf,monotonically_increasing_id\r\n",
        "from pyspark.sql.types import StringType, FloatType\r\n",
        "from vaderSentiment.vaderSentiment import SentimentIntensityAnalyzer\r\n",
        "from pyspark.sql import functions as f  \r\n",
        "import requests\r\n",
        "import pandas as pd \r\n",
        "import datetime\r\n",
        "import emoji\r\n",
        "import nltk\r\n",
        "from langdetect import detect\r\n",
        "from langdetect.lang_detect_exception import LangDetectException\r\n",
        "from nltk.corpus import stopwords\r\n",
        "from nltk.tokenize import word_tokenize\r\n",
        "import string\r\n",
        "from vaderSentiment.vaderSentiment import SentimentIntensityAnalyzer\r\n",
        "from notebookutils import mssparkutils"
      ],
      "outputs": [
        {
          "output_type": "display_data",
          "data": {
            "application/vnd.livy.statement-meta+json": {
              "spark_pool": "spark0623",
              "session_id": "23",
              "statement_id": 4,
              "statement_ids": [
                4
              ],
              "state": "finished",
              "livy_statement_state": "available",
              "queued_time": "2024-06-23T14:45:29.403014Z",
              "session_start_time": null,
              "execution_start_time": "2024-06-23T14:45:46.7115726Z",
              "execution_finish_time": "2024-06-23T14:46:09.802943Z",
              "spark_jobs": null,
              "parent_msg_id": "81e8a4fe-764c-4264-a3f1-4035199d0c7a"
            },
            "text/plain": "StatementMeta(spark0623, 23, 4, Finished, Available)"
          },
          "metadata": {}
        }
      ],
      "execution_count": 31,
      "metadata": {}
    },
    {
      "cell_type": "code",
      "source": [
        "nltk.download('punkt')\r\n",
        "nltk.download('stopwords')"
      ],
      "outputs": [
        {
          "output_type": "display_data",
          "data": {
            "application/vnd.livy.statement-meta+json": {
              "spark_pool": "spark0623",
              "session_id": "23",
              "statement_id": 5,
              "statement_ids": [
                5
              ],
              "state": "finished",
              "livy_statement_state": "available",
              "queued_time": "2024-06-23T14:45:29.4681344Z",
              "session_start_time": null,
              "execution_start_time": "2024-06-23T14:46:09.9465815Z",
              "execution_finish_time": "2024-06-23T14:46:11.0840105Z",
              "spark_jobs": null,
              "parent_msg_id": "0dd812b0-7b18-41eb-bd55-326e1451fc93"
            },
            "text/plain": "StatementMeta(spark0623, 23, 5, Finished, Available)"
          },
          "metadata": {}
        },
        {
          "output_type": "stream",
          "name": "stderr",
          "text": [
            "[nltk_data] Downloading package punkt to /home/trusted-service-\n[nltk_data]     user/nltk_data...\n[nltk_data]   Unzipping tokenizers/punkt.zip.\n[nltk_data] Downloading package stopwords to /home/trusted-service-\n[nltk_data]     user/nltk_data...\n[nltk_data]   Unzipping corpora/stopwords.zip.\n"
          ]
        },
        {
          "output_type": "execute_result",
          "execution_count": 11,
          "data": {
            "text/plain": "True"
          },
          "metadata": {}
        }
      ],
      "execution_count": 32,
      "metadata": {
        "jupyter": {
          "source_hidden": false,
          "outputs_hidden": false
        },
        "nteract": {
          "transient": {
            "deleting": false
          }
        }
      }
    },
    {
      "cell_type": "code",
      "source": [
        "Youtube_df = spark.read.parquet('abfss://files@datalakey4zmcph.dfs.core.windows.net/synapse/workspaces/data/youtube/youtube_cms/')"
      ],
      "outputs": [
        {
          "output_type": "display_data",
          "data": {
            "application/vnd.livy.statement-meta+json": {
              "spark_pool": "spark0623",
              "session_id": "23",
              "statement_id": 6,
              "statement_ids": [
                6
              ],
              "state": "finished",
              "livy_statement_state": "available",
              "queued_time": "2024-06-23T14:45:29.5511736Z",
              "session_start_time": null,
              "execution_start_time": "2024-06-23T14:46:11.2239038Z",
              "execution_finish_time": "2024-06-23T14:46:21.9320166Z",
              "spark_jobs": null,
              "parent_msg_id": "53ac9388-2375-4fd8-b34f-577fd9f67c30"
            },
            "text/plain": "StatementMeta(spark0623, 23, 6, Finished, Available)"
          },
          "metadata": {}
        }
      ],
      "execution_count": 33,
      "metadata": {
        "jupyter": {
          "source_hidden": false,
          "outputs_hidden": false
        },
        "nteract": {
          "transient": {
            "deleting": false
          }
        }
      }
    },
    {
      "cell_type": "code",
      "source": [
        "Youtube_df.show()"
      ],
      "outputs": [
        {
          "output_type": "display_data",
          "data": {
            "application/vnd.livy.statement-meta+json": {
              "spark_pool": "spark0623",
              "session_id": "23",
              "statement_id": 7,
              "statement_ids": [
                7
              ],
              "state": "finished",
              "livy_statement_state": "available",
              "queued_time": "2024-06-23T14:45:29.8150255Z",
              "session_start_time": null,
              "execution_start_time": "2024-06-23T14:46:22.0973813Z",
              "execution_finish_time": "2024-06-23T14:46:29.1491311Z",
              "spark_jobs": null,
              "parent_msg_id": "c7bbd325-648c-44b0-b71b-8489c3098976"
            },
            "text/plain": "StatementMeta(spark0623, 23, 7, Finished, Available)"
          },
          "metadata": {}
        },
        {
          "output_type": "stream",
          "name": "stdout",
          "text": [
            "+--------------------+--------------------+-----------+--------------------+--------------------+--------+------+-----------+\n|           Timestamp|            Username|    VideoID|             Comment|                Date|resource|symbol|collectedAt|\n+--------------------+--------------------+-----------+--------------------+--------------------+--------+------+-----------+\n|2024-06-04T02:17:43Z|      @jasonmraz3239|4L1ZV3Ql5-I|so what's ai pc? ...|2024-06-04T02:17:43Z| Youtube|   AMD| 2024-06-23|\n|2024-06-04T01:38:44Z|        @rapatouille|4L1ZV3Ql5-I|wow didn't expect...|2024-06-04T01:38:44Z| Youtube|   AMD| 2024-06-23|\n|2024-06-03T23:40:51Z|         @reichfrog2|4L1ZV3Ql5-I|No mention of RDN...|2024-06-03T23:40:51Z| Youtube|   AMD| 2024-06-23|\n|2024-06-03T22:47:22Z|           @uros2909|4L1ZV3Ql5-I|I can't wait till...|2024-06-03T22:47:22Z| Youtube|   AMD| 2024-06-23|\n|2024-06-03T22:21:38Z|             @eufefo|4L1ZV3Ql5-I|they forgot to la...|2024-06-03T22:21:38Z| Youtube|   AMD| 2024-06-23|\n|2024-06-03T22:02:31Z|             @eamram|4L1ZV3Ql5-I|Hey @cnet, you cu...|2024-06-03T22:02:31Z| Youtube|   AMD| 2024-06-23|\n|2024-06-03T21:31:14Z|         @JynxedKoma|4L1ZV3Ql5-I|*ISENTHATINCREDIB...|2024-06-03T21:31:14Z| Youtube|   AMD| 2024-06-23|\n|2024-06-03T20:56:45Z|  @CraigMcDonald1234|4L1ZV3Ql5-I|this is like watc...|2024-06-03T20:56:45Z| Youtube|   AMD| 2024-06-23|\n|2024-06-03T20:13:47Z|    @starcitizen6651|4L1ZV3Ql5-I|Well Looks like I...|2024-06-03T20:13:47Z| Youtube|   AMD| 2024-06-23|\n|2024-06-03T19:23:34Z|      @jakebiaek3082|4L1ZV3Ql5-I|I love love love ...|2024-06-03T19:23:34Z| Youtube|   AMD| 2024-06-23|\n|2024-06-03T18:50:11Z|        @mrpicky1868|4L1ZV3Ql5-I|oh boy not happy ...|2024-06-03T18:50:11Z| Youtube|   AMD| 2024-06-23|\n|2024-06-03T18:43:29Z|        @mrpicky1868|4L1ZV3Ql5-I|stop it AMD  . In...|2024-06-03T18:43:29Z| Youtube|   AMD| 2024-06-23|\n|2024-06-03T18:12:13Z|   @mahamudmunna5000|4L1ZV3Ql5-I|7:07 the most awk...|2024-06-03T18:12:39Z| Youtube|   AMD| 2024-06-23|\n|2024-06-03T17:49:23Z|          @RoyZennet|4L1ZV3Ql5-I|What the fuc* is ...|2024-06-03T17:49:23Z| Youtube|   AMD| 2024-06-23|\n|2024-06-03T17:32:54Z|           @niba4cob|4L1ZV3Ql5-I|8:30 Who came her...|2024-06-03T17:33:08Z| Youtube|   AMD| 2024-06-23|\n|2024-06-03T17:05:22Z|@syedarmaghanhass...|4L1ZV3Ql5-I|Welll, NVIDIA is ...|2024-06-03T17:05:22Z| Youtube|   AMD| 2024-06-23|\n|2024-06-03T17:03:29Z|    @GASNICABRUNATNA|4L1ZV3Ql5-I|Amd = love  |  As...|2024-06-03T17:03:29Z| Youtube|   AMD| 2024-06-23|\n|2024-06-03T16:51:23Z|          @dbreardon|4L1ZV3Ql5-I|So where is the N...|2024-06-03T16:51:23Z| Youtube|   AMD| 2024-06-23|\n|2024-06-03T16:23:20Z|            @Kithuni|4L1ZV3Ql5-I|Holy heck that wa...|2024-06-03T16:23:20Z| Youtube|   AMD| 2024-06-23|\n|2024-06-03T16:19:02Z|      @FractalPrism.|4L1ZV3Ql5-I|this is a bunch o...|2024-06-03T16:19:02Z| Youtube|   AMD| 2024-06-23|\n+--------------------+--------------------+-----------+--------------------+--------------------+--------+------+-----------+\nonly showing top 20 rows\n\n"
          ]
        }
      ],
      "execution_count": 34,
      "metadata": {
        "jupyter": {
          "source_hidden": false,
          "outputs_hidden": false
        },
        "nteract": {
          "transient": {
            "deleting": false
          }
        }
      }
    },
    {
      "cell_type": "code",
      "source": [
        "Youtube_df_v1 = (\r\n",
        "    Youtube_df.withColumn('wordCount', f.size(f.split(f.col('comment'), ' ')))\r\n",
        "    .filter(f.col('wordCount')>5)\r\n",
        "    .withColumn(\"id\", monotonically_increasing_id())\r\n",
        "    .select('Date','id','Comment','symbol','VideoID')\r\n",
        "    ).toPandas()"
      ],
      "outputs": [
        {
          "output_type": "display_data",
          "data": {
            "application/vnd.livy.statement-meta+json": {
              "spark_pool": "spark0623",
              "session_id": "23",
              "statement_id": 8,
              "statement_ids": [
                8
              ],
              "state": "finished",
              "livy_statement_state": "available",
              "queued_time": "2024-06-23T14:45:29.9704316Z",
              "session_start_time": null,
              "execution_start_time": "2024-06-23T14:46:29.2874885Z",
              "execution_finish_time": "2024-06-23T14:46:40.0244716Z",
              "spark_jobs": null,
              "parent_msg_id": "2a962d8b-c1c3-4421-8d85-12cc5982a8bf"
            },
            "text/plain": "StatementMeta(spark0623, 23, 8, Finished, Available)"
          },
          "metadata": {}
        }
      ],
      "execution_count": 35,
      "metadata": {
        "jupyter": {
          "source_hidden": false,
          "outputs_hidden": false
        },
        "nteract": {
          "transient": {
            "deleting": false
          }
        }
      }
    },
    {
      "cell_type": "code",
      "source": [
        "Youtube_df_v1"
      ],
      "outputs": [
        {
          "output_type": "display_data",
          "data": {
            "application/vnd.livy.statement-meta+json": {
              "spark_pool": "spark0623",
              "session_id": "23",
              "statement_id": 9,
              "statement_ids": [
                9
              ],
              "state": "finished",
              "livy_statement_state": "available",
              "queued_time": "2024-06-23T14:45:30.0443138Z",
              "session_start_time": null,
              "execution_start_time": "2024-06-23T14:46:40.168158Z",
              "execution_finish_time": "2024-06-23T14:46:40.334215Z",
              "spark_jobs": null,
              "parent_msg_id": "f7775481-4352-4773-9f50-7339b0886740"
            },
            "text/plain": "StatementMeta(spark0623, 23, 9, Finished, Available)"
          },
          "metadata": {}
        },
        {
          "output_type": "execute_result",
          "execution_count": 19,
          "data": {
            "text/plain": "                       Date           id  \\\n0      2024-06-04T02:17:43Z            0   \n1      2024-06-04T01:38:44Z            1   \n2      2024-06-03T23:40:51Z            2   \n3      2024-06-03T22:47:22Z            3   \n4      2024-06-03T22:21:38Z            4   \n...                     ...          ...   \n13609  2024-06-04T14:17:11Z  60129543869   \n13610  2024-06-04T14:16:57Z  60129543870   \n13611  2024-06-04T14:14:57Z  60129543871   \n13612  2024-06-04T14:13:06Z  60129543872   \n13613  2024-06-04T14:08:27Z  60129543873   \n\n                                                 Comment symbol      VideoID  \n0      so what's ai pc? what's the difference between...    AMD  4L1ZV3Ql5-I  \n1      wow didn't expect the new CPUs launching so soon!    AMD  4L1ZV3Ql5-I  \n2      No mention of RDNA 4 GPU's is disappointing. T...    AMD  4L1ZV3Ql5-I  \n3      I can't wait till we get strix point to deskto...    AMD  4L1ZV3Ql5-I  \n4                      they forgot to launch an arm cpu.    AMD  4L1ZV3Ql5-I  \n...                                                  ...    ...          ...  \n13609  Is the reason why there are no ryzen 3s the ba...    AMD  G1aI7G9jevw  \n13610  The graphs at 7:25 are completely broken : how...    AMD  G1aI7G9jevw  \n13611  Imagine taking your kid to the playground to f...    AMD  G1aI7G9jevw  \n13612  Linus running through stats like a walk in the...    AMD  G1aI7G9jevw  \n13613                    Not good. Video needs more rain    AMD  G1aI7G9jevw  \n\n[13614 rows x 5 columns]",
            "text/html": "<div>\n<style scoped>\n    .dataframe tbody tr th:only-of-type {\n        vertical-align: middle;\n    }\n\n    .dataframe tbody tr th {\n        vertical-align: top;\n    }\n\n    .dataframe thead th {\n        text-align: right;\n    }\n</style>\n<table border=\"1\" class=\"dataframe\">\n  <thead>\n    <tr style=\"text-align: right;\">\n      <th></th>\n      <th>Date</th>\n      <th>id</th>\n      <th>Comment</th>\n      <th>symbol</th>\n      <th>VideoID</th>\n    </tr>\n  </thead>\n  <tbody>\n    <tr>\n      <th>0</th>\n      <td>2024-06-04T02:17:43Z</td>\n      <td>0</td>\n      <td>so what's ai pc? what's the difference between...</td>\n      <td>AMD</td>\n      <td>4L1ZV3Ql5-I</td>\n    </tr>\n    <tr>\n      <th>1</th>\n      <td>2024-06-04T01:38:44Z</td>\n      <td>1</td>\n      <td>wow didn't expect the new CPUs launching so soon!</td>\n      <td>AMD</td>\n      <td>4L1ZV3Ql5-I</td>\n    </tr>\n    <tr>\n      <th>2</th>\n      <td>2024-06-03T23:40:51Z</td>\n      <td>2</td>\n      <td>No mention of RDNA 4 GPU's is disappointing. T...</td>\n      <td>AMD</td>\n      <td>4L1ZV3Ql5-I</td>\n    </tr>\n    <tr>\n      <th>3</th>\n      <td>2024-06-03T22:47:22Z</td>\n      <td>3</td>\n      <td>I can't wait till we get strix point to deskto...</td>\n      <td>AMD</td>\n      <td>4L1ZV3Ql5-I</td>\n    </tr>\n    <tr>\n      <th>4</th>\n      <td>2024-06-03T22:21:38Z</td>\n      <td>4</td>\n      <td>they forgot to launch an arm cpu.</td>\n      <td>AMD</td>\n      <td>4L1ZV3Ql5-I</td>\n    </tr>\n    <tr>\n      <th>...</th>\n      <td>...</td>\n      <td>...</td>\n      <td>...</td>\n      <td>...</td>\n      <td>...</td>\n    </tr>\n    <tr>\n      <th>13609</th>\n      <td>2024-06-04T14:17:11Z</td>\n      <td>60129543869</td>\n      <td>Is the reason why there are no ryzen 3s the ba...</td>\n      <td>AMD</td>\n      <td>G1aI7G9jevw</td>\n    </tr>\n    <tr>\n      <th>13610</th>\n      <td>2024-06-04T14:16:57Z</td>\n      <td>60129543870</td>\n      <td>The graphs at 7:25 are completely broken : how...</td>\n      <td>AMD</td>\n      <td>G1aI7G9jevw</td>\n    </tr>\n    <tr>\n      <th>13611</th>\n      <td>2024-06-04T14:14:57Z</td>\n      <td>60129543871</td>\n      <td>Imagine taking your kid to the playground to f...</td>\n      <td>AMD</td>\n      <td>G1aI7G9jevw</td>\n    </tr>\n    <tr>\n      <th>13612</th>\n      <td>2024-06-04T14:13:06Z</td>\n      <td>60129543872</td>\n      <td>Linus running through stats like a walk in the...</td>\n      <td>AMD</td>\n      <td>G1aI7G9jevw</td>\n    </tr>\n    <tr>\n      <th>13613</th>\n      <td>2024-06-04T14:08:27Z</td>\n      <td>60129543873</td>\n      <td>Not good. Video needs more rain</td>\n      <td>AMD</td>\n      <td>G1aI7G9jevw</td>\n    </tr>\n  </tbody>\n</table>\n<p>13614 rows × 5 columns</p>\n</div>"
          },
          "metadata": {}
        }
      ],
      "execution_count": 36,
      "metadata": {
        "jupyter": {
          "source_hidden": false,
          "outputs_hidden": false
        },
        "nteract": {
          "transient": {
            "deleting": false
          }
        }
      }
    },
    {
      "cell_type": "code",
      "source": [
        "# remove non english word\r\n",
        "def is_english(text):\r\n",
        "    try:\r\n",
        "        return detect(text) == 'en'\r\n",
        "    except LangDetectException:\r\n",
        "        return False\r\n",
        "    \r\n",
        "# change text into lowercase\r\n",
        "def to_lowercase(text):\r\n",
        "    return text.lower()\r\n",
        "\r\n",
        "# remove punctuation\r\n",
        "def rm_punctuation(text):\r\n",
        "    return text.translate(str.maketrans('', '', string.punctuation))\r\n",
        "\r\n",
        "def tokenise(text):\r\n",
        "    return word_tokenize(text)\r\n",
        "\r\n",
        "# remove stop words \r\n",
        "def remove_stopwords(tokens):\r\n",
        "    stop_words = set(stopwords.words('english'))\r\n",
        "    return [word for word in tokens if word not in stop_words]\r\n",
        "\r\n",
        "# rejoin tokens\r\n",
        "def rejoin_tokens(tokens):\r\n",
        "    return ' '.join(tokens)\r\n",
        "\r\n",
        "# main function for preprocess_text \r\n",
        "def preprocess_text(text):\r\n",
        "    text = to_lowercase(text)\r\n",
        "    text = rm_punctuation(text)\r\n",
        "    tokens = tokenise(text)\r\n",
        "    tokens = remove_stopwords(tokens)\r\n",
        "    return rejoin_tokens(tokens)"
      ],
      "outputs": [
        {
          "output_type": "display_data",
          "data": {
            "application/vnd.livy.statement-meta+json": {
              "spark_pool": "spark0623",
              "session_id": "23",
              "statement_id": 10,
              "statement_ids": [
                10
              ],
              "state": "finished",
              "livy_statement_state": "available",
              "queued_time": "2024-06-23T14:45:30.1522207Z",
              "session_start_time": null,
              "execution_start_time": "2024-06-23T14:46:40.4730917Z",
              "execution_finish_time": "2024-06-23T14:46:40.6360743Z",
              "spark_jobs": null,
              "parent_msg_id": "aabf5d50-6c5e-45bf-b88a-924299e621d4"
            },
            "text/plain": "StatementMeta(spark0623, 23, 10, Finished, Available)"
          },
          "metadata": {}
        }
      ],
      "execution_count": 37,
      "metadata": {
        "jupyter": {
          "source_hidden": false,
          "outputs_hidden": false
        },
        "nteract": {
          "transient": {
            "deleting": false
          }
        }
      }
    },
    {
      "cell_type": "code",
      "source": [
        "Youtube_df_v1['is_english'] = Youtube_df_v1['Comment'].apply(is_english)\r\n",
        "Youtube_df_v2 = Youtube_df_v1[Youtube_df_v1['is_english']]\r\n",
        "Youtube_df_v2['preprocessed_text'] = Youtube_df_v2['Comment'].apply(preprocess_text)"
      ],
      "outputs": [
        {
          "output_type": "display_data",
          "data": {
            "application/vnd.livy.statement-meta+json": {
              "spark_pool": "spark0623",
              "session_id": "23",
              "statement_id": 11,
              "statement_ids": [
                11
              ],
              "state": "finished",
              "livy_statement_state": "available",
              "queued_time": "2024-06-23T14:45:30.2278558Z",
              "session_start_time": null,
              "execution_start_time": "2024-06-23T14:46:40.7840279Z",
              "execution_finish_time": "2024-06-23T14:47:45.0702255Z",
              "spark_jobs": null,
              "parent_msg_id": "ad5af2c2-66dc-4466-8940-7f4467eb4844"
            },
            "text/plain": "StatementMeta(spark0623, 23, 11, Finished, Available)"
          },
          "metadata": {}
        },
        {
          "output_type": "stream",
          "name": "stderr",
          "text": [
            "/tmp/ipykernel_5378/2470966190.py:3: SettingWithCopyWarning: \nA value is trying to be set on a copy of a slice from a DataFrame.\nTry using .loc[row_indexer,col_indexer] = value instead\n\nSee the caveats in the documentation: https://pandas.pydata.org/pandas-docs/stable/user_guide/indexing.html#returning-a-view-versus-a-copy\n  Youtube_df_v2['preprocessed_text'] = Youtube_df_v2['Comment'].apply(preprocess_text)\n"
          ]
        }
      ],
      "execution_count": 38,
      "metadata": {
        "jupyter": {
          "source_hidden": false,
          "outputs_hidden": false
        },
        "nteract": {
          "transient": {
            "deleting": false
          }
        }
      }
    },
    {
      "cell_type": "code",
      "source": [
        "def is_string(text):\r\n",
        "    return isinstance(text, str)\r\n",
        "\r\n",
        "Youtube_df_v2['is_string']=Youtube_df_v2['preprocessed_text'].apply(is_string)\r\n",
        "Youtube_df_v3 = Youtube_df_v2[Youtube_df_v2['is_string']]"
      ],
      "outputs": [
        {
          "output_type": "display_data",
          "data": {
            "application/vnd.livy.statement-meta+json": {
              "spark_pool": "spark0623",
              "session_id": "23",
              "statement_id": 12,
              "statement_ids": [
                12
              ],
              "state": "finished",
              "livy_statement_state": "available",
              "queued_time": "2024-06-23T14:45:30.3190593Z",
              "session_start_time": null,
              "execution_start_time": "2024-06-23T14:47:45.2234382Z",
              "execution_finish_time": "2024-06-23T14:47:45.3823149Z",
              "spark_jobs": null,
              "parent_msg_id": "c2f8d06e-0684-4351-b3f0-ce160ec5c8a6"
            },
            "text/plain": "StatementMeta(spark0623, 23, 12, Finished, Available)"
          },
          "metadata": {}
        },
        {
          "output_type": "stream",
          "name": "stderr",
          "text": [
            "/tmp/ipykernel_5378/603027338.py:4: SettingWithCopyWarning: \nA value is trying to be set on a copy of a slice from a DataFrame.\nTry using .loc[row_indexer,col_indexer] = value instead\n\nSee the caveats in the documentation: https://pandas.pydata.org/pandas-docs/stable/user_guide/indexing.html#returning-a-view-versus-a-copy\n  Youtube_df_v2['is_string']=Youtube_df_v2['preprocessed_text'].apply(is_string)\n"
          ]
        }
      ],
      "execution_count": 39,
      "metadata": {
        "jupyter": {
          "source_hidden": false,
          "outputs_hidden": false
        },
        "nteract": {
          "transient": {
            "deleting": false
          }
        }
      }
    },
    {
      "cell_type": "code",
      "source": [
        "def analyze_sentiment(text):\r\n",
        "    analyzer = SentimentIntensityAnalyzer()\r\n",
        "    scores = analyzer.polarity_scores(text)\r\n",
        "    return scores['compound']\r\n",
        "\r\n",
        "def categorize_sentiment(compound_score):\r\n",
        "    if compound_score >= 0.05:\r\n",
        "        return 'positive'\r\n",
        "    elif compound_score <= -0.05:\r\n",
        "        return 'negative'\r\n",
        "    else:\r\n",
        "        return 'neutral'"
      ],
      "outputs": [
        {
          "output_type": "display_data",
          "data": {
            "application/vnd.livy.statement-meta+json": {
              "spark_pool": "spark0623",
              "session_id": "23",
              "statement_id": 13,
              "statement_ids": [
                13
              ],
              "state": "finished",
              "livy_statement_state": "available",
              "queued_time": "2024-06-23T14:45:30.4060064Z",
              "session_start_time": null,
              "execution_start_time": "2024-06-23T14:47:45.5455284Z",
              "execution_finish_time": "2024-06-23T14:47:45.7088923Z",
              "spark_jobs": null,
              "parent_msg_id": "2a2fa64f-01ef-4caf-8464-f42bd5b2def4"
            },
            "text/plain": "StatementMeta(spark0623, 23, 13, Finished, Available)"
          },
          "metadata": {}
        }
      ],
      "execution_count": 40,
      "metadata": {
        "jupyter": {
          "source_hidden": false,
          "outputs_hidden": false
        },
        "nteract": {
          "transient": {
            "deleting": false
          }
        }
      }
    },
    {
      "cell_type": "code",
      "source": [
        "Youtube_df_v3['sentiment'] = Youtube_df_v3['preprocessed_text'].apply(analyze_sentiment)\r\n",
        "Youtube_df_v3['sentiment_category'] = Youtube_df_v3['sentiment'].apply(categorize_sentiment)"
      ],
      "outputs": [
        {
          "output_type": "display_data",
          "data": {
            "application/vnd.livy.statement-meta+json": {
              "spark_pool": "spark0623",
              "session_id": "23",
              "statement_id": 14,
              "statement_ids": [
                14
              ],
              "state": "finished",
              "livy_statement_state": "available",
              "queued_time": "2024-06-23T14:45:30.4946235Z",
              "session_start_time": null,
              "execution_start_time": "2024-06-23T14:47:45.8416803Z",
              "execution_finish_time": "2024-06-23T14:49:45.1642131Z",
              "spark_jobs": null,
              "parent_msg_id": "d9976c59-3287-4fce-9ecd-87dce32b1bbd"
            },
            "text/plain": "StatementMeta(spark0623, 23, 14, Finished, Available)"
          },
          "metadata": {}
        }
      ],
      "execution_count": 41,
      "metadata": {
        "jupyter": {
          "source_hidden": false,
          "outputs_hidden": false
        },
        "nteract": {
          "transient": {
            "deleting": false
          }
        }
      }
    },
    {
      "cell_type": "code",
      "source": [
        "Youtube_df_v4 = Youtube_df_v3[['id','sentiment','sentiment_category']]"
      ],
      "outputs": [
        {
          "output_type": "display_data",
          "data": {
            "application/vnd.livy.statement-meta+json": {
              "spark_pool": "spark0623",
              "session_id": "23",
              "statement_id": 15,
              "statement_ids": [
                15
              ],
              "state": "finished",
              "livy_statement_state": "available",
              "queued_time": "2024-06-23T14:45:30.579776Z",
              "session_start_time": null,
              "execution_start_time": "2024-06-23T14:49:45.3083234Z",
              "execution_finish_time": "2024-06-23T14:49:45.4832327Z",
              "spark_jobs": null,
              "parent_msg_id": "7726b456-7f06-4512-a6f6-6b1d398085a3"
            },
            "text/plain": "StatementMeta(spark0623, 23, 15, Finished, Available)"
          },
          "metadata": {}
        }
      ],
      "execution_count": 42,
      "metadata": {
        "jupyter": {
          "source_hidden": false,
          "outputs_hidden": false
        },
        "nteract": {
          "transient": {
            "deleting": false
          }
        }
      }
    },
    {
      "cell_type": "code",
      "source": [
        "final_df = pd.merge(Youtube_df_v1,Youtube_df_v4, left_on='id', right_on='id', how='left')"
      ],
      "outputs": [
        {
          "output_type": "display_data",
          "data": {
            "application/vnd.livy.statement-meta+json": {
              "spark_pool": "spark0623",
              "session_id": "23",
              "statement_id": 16,
              "statement_ids": [
                16
              ],
              "state": "finished",
              "livy_statement_state": "available",
              "queued_time": "2024-06-23T14:45:30.6650171Z",
              "session_start_time": null,
              "execution_start_time": "2024-06-23T14:49:45.6255051Z",
              "execution_finish_time": "2024-06-23T14:49:45.7865349Z",
              "spark_jobs": null,
              "parent_msg_id": "edce799a-a428-4f25-a64b-51fbbd99ca87"
            },
            "text/plain": "StatementMeta(spark0623, 23, 16, Finished, Available)"
          },
          "metadata": {}
        }
      ],
      "execution_count": 43,
      "metadata": {
        "jupyter": {
          "source_hidden": false,
          "outputs_hidden": false
        },
        "nteract": {
          "transient": {
            "deleting": false
          }
        }
      }
    },
    {
      "cell_type": "code",
      "source": [
        "final_df"
      ],
      "outputs": [
        {
          "output_type": "display_data",
          "data": {
            "application/vnd.livy.statement-meta+json": {
              "spark_pool": "spark0623",
              "session_id": "23",
              "statement_id": 17,
              "statement_ids": [
                17
              ],
              "state": "finished",
              "livy_statement_state": "available",
              "queued_time": "2024-06-23T14:45:30.7511214Z",
              "session_start_time": null,
              "execution_start_time": "2024-06-23T14:49:45.9204354Z",
              "execution_finish_time": "2024-06-23T14:49:46.0863575Z",
              "spark_jobs": null,
              "parent_msg_id": "d9acb9d9-872c-4da0-aa8d-7a40598c0b8b"
            },
            "text/plain": "StatementMeta(spark0623, 23, 17, Finished, Available)"
          },
          "metadata": {}
        },
        {
          "output_type": "execute_result",
          "execution_count": 35,
          "data": {
            "text/plain": "                       Date           id  \\\n0      2024-06-04T02:17:43Z            0   \n1      2024-06-04T01:38:44Z            1   \n2      2024-06-03T23:40:51Z            2   \n3      2024-06-03T22:47:22Z            3   \n4      2024-06-03T22:21:38Z            4   \n...                     ...          ...   \n13609  2024-06-04T14:17:11Z  60129543869   \n13610  2024-06-04T14:16:57Z  60129543870   \n13611  2024-06-04T14:14:57Z  60129543871   \n13612  2024-06-04T14:13:06Z  60129543872   \n13613  2024-06-04T14:08:27Z  60129543873   \n\n                                                 Comment symbol      VideoID  \\\n0      so what's ai pc? what's the difference between...    AMD  4L1ZV3Ql5-I   \n1      wow didn't expect the new CPUs launching so soon!    AMD  4L1ZV3Ql5-I   \n2      No mention of RDNA 4 GPU's is disappointing. T...    AMD  4L1ZV3Ql5-I   \n3      I can't wait till we get strix point to deskto...    AMD  4L1ZV3Ql5-I   \n4                      they forgot to launch an arm cpu.    AMD  4L1ZV3Ql5-I   \n...                                                  ...    ...          ...   \n13609  Is the reason why there are no ryzen 3s the ba...    AMD  G1aI7G9jevw   \n13610  The graphs at 7:25 are completely broken : how...    AMD  G1aI7G9jevw   \n13611  Imagine taking your kid to the playground to f...    AMD  G1aI7G9jevw   \n13612  Linus running through stats like a walk in the...    AMD  G1aI7G9jevw   \n13613                    Not good. Video needs more rain    AMD  G1aI7G9jevw   \n\n       is_english  sentiment sentiment_category  \n0            True     0.0000            neutral  \n1            True     0.5859           positive  \n2            True    -0.4939           negative  \n3            True     0.1531           positive  \n4            True     0.0000            neutral  \n...           ...        ...                ...  \n13609        True     0.1010           positive  \n13610        True    -0.8070           negative  \n13611        True    -0.3818           negative  \n13612        True     0.3612           positive  \n13613        True     0.4404           positive  \n\n[13614 rows x 8 columns]",
            "text/html": "<div>\n<style scoped>\n    .dataframe tbody tr th:only-of-type {\n        vertical-align: middle;\n    }\n\n    .dataframe tbody tr th {\n        vertical-align: top;\n    }\n\n    .dataframe thead th {\n        text-align: right;\n    }\n</style>\n<table border=\"1\" class=\"dataframe\">\n  <thead>\n    <tr style=\"text-align: right;\">\n      <th></th>\n      <th>Date</th>\n      <th>id</th>\n      <th>Comment</th>\n      <th>symbol</th>\n      <th>VideoID</th>\n      <th>is_english</th>\n      <th>sentiment</th>\n      <th>sentiment_category</th>\n    </tr>\n  </thead>\n  <tbody>\n    <tr>\n      <th>0</th>\n      <td>2024-06-04T02:17:43Z</td>\n      <td>0</td>\n      <td>so what's ai pc? what's the difference between...</td>\n      <td>AMD</td>\n      <td>4L1ZV3Ql5-I</td>\n      <td>True</td>\n      <td>0.0000</td>\n      <td>neutral</td>\n    </tr>\n    <tr>\n      <th>1</th>\n      <td>2024-06-04T01:38:44Z</td>\n      <td>1</td>\n      <td>wow didn't expect the new CPUs launching so soon!</td>\n      <td>AMD</td>\n      <td>4L1ZV3Ql5-I</td>\n      <td>True</td>\n      <td>0.5859</td>\n      <td>positive</td>\n    </tr>\n    <tr>\n      <th>2</th>\n      <td>2024-06-03T23:40:51Z</td>\n      <td>2</td>\n      <td>No mention of RDNA 4 GPU's is disappointing. T...</td>\n      <td>AMD</td>\n      <td>4L1ZV3Ql5-I</td>\n      <td>True</td>\n      <td>-0.4939</td>\n      <td>negative</td>\n    </tr>\n    <tr>\n      <th>3</th>\n      <td>2024-06-03T22:47:22Z</td>\n      <td>3</td>\n      <td>I can't wait till we get strix point to deskto...</td>\n      <td>AMD</td>\n      <td>4L1ZV3Ql5-I</td>\n      <td>True</td>\n      <td>0.1531</td>\n      <td>positive</td>\n    </tr>\n    <tr>\n      <th>4</th>\n      <td>2024-06-03T22:21:38Z</td>\n      <td>4</td>\n      <td>they forgot to launch an arm cpu.</td>\n      <td>AMD</td>\n      <td>4L1ZV3Ql5-I</td>\n      <td>True</td>\n      <td>0.0000</td>\n      <td>neutral</td>\n    </tr>\n    <tr>\n      <th>...</th>\n      <td>...</td>\n      <td>...</td>\n      <td>...</td>\n      <td>...</td>\n      <td>...</td>\n      <td>...</td>\n      <td>...</td>\n      <td>...</td>\n    </tr>\n    <tr>\n      <th>13609</th>\n      <td>2024-06-04T14:17:11Z</td>\n      <td>60129543869</td>\n      <td>Is the reason why there are no ryzen 3s the ba...</td>\n      <td>AMD</td>\n      <td>G1aI7G9jevw</td>\n      <td>True</td>\n      <td>0.1010</td>\n      <td>positive</td>\n    </tr>\n    <tr>\n      <th>13610</th>\n      <td>2024-06-04T14:16:57Z</td>\n      <td>60129543870</td>\n      <td>The graphs at 7:25 are completely broken : how...</td>\n      <td>AMD</td>\n      <td>G1aI7G9jevw</td>\n      <td>True</td>\n      <td>-0.8070</td>\n      <td>negative</td>\n    </tr>\n    <tr>\n      <th>13611</th>\n      <td>2024-06-04T14:14:57Z</td>\n      <td>60129543871</td>\n      <td>Imagine taking your kid to the playground to f...</td>\n      <td>AMD</td>\n      <td>G1aI7G9jevw</td>\n      <td>True</td>\n      <td>-0.3818</td>\n      <td>negative</td>\n    </tr>\n    <tr>\n      <th>13612</th>\n      <td>2024-06-04T14:13:06Z</td>\n      <td>60129543872</td>\n      <td>Linus running through stats like a walk in the...</td>\n      <td>AMD</td>\n      <td>G1aI7G9jevw</td>\n      <td>True</td>\n      <td>0.3612</td>\n      <td>positive</td>\n    </tr>\n    <tr>\n      <th>13613</th>\n      <td>2024-06-04T14:08:27Z</td>\n      <td>60129543873</td>\n      <td>Not good. Video needs more rain</td>\n      <td>AMD</td>\n      <td>G1aI7G9jevw</td>\n      <td>True</td>\n      <td>0.4404</td>\n      <td>positive</td>\n    </tr>\n  </tbody>\n</table>\n<p>13614 rows × 8 columns</p>\n</div>"
          },
          "metadata": {}
        }
      ],
      "execution_count": 44,
      "metadata": {
        "jupyter": {
          "source_hidden": false,
          "outputs_hidden": false
        },
        "nteract": {
          "transient": {
            "deleting": false
          }
        }
      }
    },
    {
      "cell_type": "code",
      "source": [
        "result = final_df[['Date','symbol','Comment','sentiment','sentiment_category']]"
      ],
      "outputs": [
        {
          "output_type": "display_data",
          "data": {
            "application/vnd.livy.statement-meta+json": {
              "spark_pool": "spark0623",
              "session_id": "23",
              "statement_id": 18,
              "statement_ids": [
                18
              ],
              "state": "finished",
              "livy_statement_state": "available",
              "queued_time": "2024-06-23T14:45:30.8522728Z",
              "session_start_time": null,
              "execution_start_time": "2024-06-23T14:49:46.2227848Z",
              "execution_finish_time": "2024-06-23T14:49:46.3784731Z",
              "spark_jobs": null,
              "parent_msg_id": "26ee3cd1-50ba-4466-86dc-b8919966273c"
            },
            "text/plain": "StatementMeta(spark0623, 23, 18, Finished, Available)"
          },
          "metadata": {}
        }
      ],
      "execution_count": 45,
      "metadata": {
        "jupyter": {
          "source_hidden": false,
          "outputs_hidden": false
        },
        "nteract": {
          "transient": {
            "deleting": false
          }
        }
      }
    },
    {
      "cell_type": "code",
      "source": [
        "result"
      ],
      "outputs": [
        {
          "output_type": "display_data",
          "data": {
            "application/vnd.livy.statement-meta+json": {
              "spark_pool": "spark0623",
              "session_id": "23",
              "statement_id": 19,
              "statement_ids": [
                19
              ],
              "state": "finished",
              "livy_statement_state": "available",
              "queued_time": "2024-06-23T14:45:30.9373887Z",
              "session_start_time": null,
              "execution_start_time": "2024-06-23T14:49:46.5121693Z",
              "execution_finish_time": "2024-06-23T14:49:46.6786494Z",
              "spark_jobs": null,
              "parent_msg_id": "586f4e89-9deb-484e-a98c-494bc166698e"
            },
            "text/plain": "StatementMeta(spark0623, 23, 19, Finished, Available)"
          },
          "metadata": {}
        },
        {
          "output_type": "execute_result",
          "execution_count": 39,
          "data": {
            "text/plain": "                       Date symbol  \\\n0      2024-06-04T02:17:43Z    AMD   \n1      2024-06-04T01:38:44Z    AMD   \n2      2024-06-03T23:40:51Z    AMD   \n3      2024-06-03T22:47:22Z    AMD   \n4      2024-06-03T22:21:38Z    AMD   \n...                     ...    ...   \n13609  2024-06-04T14:17:11Z    AMD   \n13610  2024-06-04T14:16:57Z    AMD   \n13611  2024-06-04T14:14:57Z    AMD   \n13612  2024-06-04T14:13:06Z    AMD   \n13613  2024-06-04T14:08:27Z    AMD   \n\n                                                 Comment  sentiment  \\\n0      so what's ai pc? what's the difference between...     0.0000   \n1      wow didn't expect the new CPUs launching so soon!     0.5859   \n2      No mention of RDNA 4 GPU's is disappointing. T...    -0.4939   \n3      I can't wait till we get strix point to deskto...     0.1531   \n4                      they forgot to launch an arm cpu.     0.0000   \n...                                                  ...        ...   \n13609  Is the reason why there are no ryzen 3s the ba...     0.1010   \n13610  The graphs at 7:25 are completely broken : how...    -0.8070   \n13611  Imagine taking your kid to the playground to f...    -0.3818   \n13612  Linus running through stats like a walk in the...     0.3612   \n13613                    Not good. Video needs more rain     0.4404   \n\n      sentiment_category  \n0                neutral  \n1               positive  \n2               negative  \n3               positive  \n4                neutral  \n...                  ...  \n13609           positive  \n13610           negative  \n13611           negative  \n13612           positive  \n13613           positive  \n\n[13614 rows x 5 columns]",
            "text/html": "<div>\n<style scoped>\n    .dataframe tbody tr th:only-of-type {\n        vertical-align: middle;\n    }\n\n    .dataframe tbody tr th {\n        vertical-align: top;\n    }\n\n    .dataframe thead th {\n        text-align: right;\n    }\n</style>\n<table border=\"1\" class=\"dataframe\">\n  <thead>\n    <tr style=\"text-align: right;\">\n      <th></th>\n      <th>Date</th>\n      <th>symbol</th>\n      <th>Comment</th>\n      <th>sentiment</th>\n      <th>sentiment_category</th>\n    </tr>\n  </thead>\n  <tbody>\n    <tr>\n      <th>0</th>\n      <td>2024-06-04T02:17:43Z</td>\n      <td>AMD</td>\n      <td>so what's ai pc? what's the difference between...</td>\n      <td>0.0000</td>\n      <td>neutral</td>\n    </tr>\n    <tr>\n      <th>1</th>\n      <td>2024-06-04T01:38:44Z</td>\n      <td>AMD</td>\n      <td>wow didn't expect the new CPUs launching so soon!</td>\n      <td>0.5859</td>\n      <td>positive</td>\n    </tr>\n    <tr>\n      <th>2</th>\n      <td>2024-06-03T23:40:51Z</td>\n      <td>AMD</td>\n      <td>No mention of RDNA 4 GPU's is disappointing. T...</td>\n      <td>-0.4939</td>\n      <td>negative</td>\n    </tr>\n    <tr>\n      <th>3</th>\n      <td>2024-06-03T22:47:22Z</td>\n      <td>AMD</td>\n      <td>I can't wait till we get strix point to deskto...</td>\n      <td>0.1531</td>\n      <td>positive</td>\n    </tr>\n    <tr>\n      <th>4</th>\n      <td>2024-06-03T22:21:38Z</td>\n      <td>AMD</td>\n      <td>they forgot to launch an arm cpu.</td>\n      <td>0.0000</td>\n      <td>neutral</td>\n    </tr>\n    <tr>\n      <th>...</th>\n      <td>...</td>\n      <td>...</td>\n      <td>...</td>\n      <td>...</td>\n      <td>...</td>\n    </tr>\n    <tr>\n      <th>13609</th>\n      <td>2024-06-04T14:17:11Z</td>\n      <td>AMD</td>\n      <td>Is the reason why there are no ryzen 3s the ba...</td>\n      <td>0.1010</td>\n      <td>positive</td>\n    </tr>\n    <tr>\n      <th>13610</th>\n      <td>2024-06-04T14:16:57Z</td>\n      <td>AMD</td>\n      <td>The graphs at 7:25 are completely broken : how...</td>\n      <td>-0.8070</td>\n      <td>negative</td>\n    </tr>\n    <tr>\n      <th>13611</th>\n      <td>2024-06-04T14:14:57Z</td>\n      <td>AMD</td>\n      <td>Imagine taking your kid to the playground to f...</td>\n      <td>-0.3818</td>\n      <td>negative</td>\n    </tr>\n    <tr>\n      <th>13612</th>\n      <td>2024-06-04T14:13:06Z</td>\n      <td>AMD</td>\n      <td>Linus running through stats like a walk in the...</td>\n      <td>0.3612</td>\n      <td>positive</td>\n    </tr>\n    <tr>\n      <th>13613</th>\n      <td>2024-06-04T14:08:27Z</td>\n      <td>AMD</td>\n      <td>Not good. Video needs more rain</td>\n      <td>0.4404</td>\n      <td>positive</td>\n    </tr>\n  </tbody>\n</table>\n<p>13614 rows × 5 columns</p>\n</div>"
          },
          "metadata": {}
        }
      ],
      "execution_count": 46,
      "metadata": {
        "jupyter": {
          "source_hidden": false,
          "outputs_hidden": false
        },
        "nteract": {
          "transient": {
            "deleting": false
          }
        }
      }
    },
    {
      "cell_type": "code",
      "source": [
        "spdf = spark.createDataFrame(result)\r\n",
        "datalake_nm = 'datalake'+mssparkutils.env.getWorkspaceName()[7:] # get datalake name \r\n",
        "file_path ='abfss://files@{0}.dfs.core.windows.net/synapse/workspaces/data/youtube/youtube_sentiments'.format(datalake_nm)\r\n",
        "spdf.write.parquet(file_path,mode='overwrite')"
      ],
      "outputs": [
        {
          "output_type": "display_data",
          "data": {
            "application/vnd.livy.statement-meta+json": {
              "spark_pool": "spark0623",
              "session_id": "23",
              "statement_id": 21,
              "statement_ids": [
                21
              ],
              "state": "finished",
              "livy_statement_state": "available",
              "queued_time": "2024-06-23T14:52:03.1384267Z",
              "session_start_time": null,
              "execution_start_time": "2024-06-23T14:52:03.3409649Z",
              "execution_finish_time": "2024-06-23T14:52:05.2027867Z",
              "spark_jobs": null,
              "parent_msg_id": "7bd41c6e-b2fe-4c50-b2cb-a95cfcca61e3"
            },
            "text/plain": "StatementMeta(spark0623, 23, 21, Finished, Available)"
          },
          "metadata": {}
        }
      ],
      "execution_count": 48,
      "metadata": {
        "jupyter": {
          "source_hidden": false,
          "outputs_hidden": false
        },
        "nteract": {
          "transient": {
            "deleting": false
          }
        }
      }
    }
  ],
  "metadata": {
    "language_info": {
      "name": "python"
    },
    "kernelspec": {
      "name": "synapse_pyspark",
      "language": "Python",
      "display_name": "Synapse PySpark"
    },
    "kernel_info": {
      "name": "synapse_pyspark"
    },
    "description": null,
    "save_output": true,
    "synapse_widget": {
      "version": "0.1",
      "state": {}
    }
  },
  "nbformat": 4,
  "nbformat_minor": 2
}