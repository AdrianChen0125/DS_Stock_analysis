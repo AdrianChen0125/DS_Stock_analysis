{
  "nbformat": 4,
  "nbformat_minor": 2,
  "cells": [
    {
      "cell_type": "markdown",
      "metadata": {},
      "source": [
        "## ETL01_Stock_price"
      ]
    },
    {
      "cell_type": "code",
      "execution_count": 1,
      "outputs": [],
      "metadata": {},
      "source": [
        "from pyspark.sql.types import *\n",
        "from pyspark.sql import functions as f\n",
        "import requests\n",
        "import pandas as pd \n",
        "from notebookutils import mssparkutils\n",
        "\n",
        "# get data from api \n",
        "def get_stock_data(symbol,apikey,data_size):\n",
        "    url = 'https://www.alphavantage.co/query?function=TIME_SERIES_DAILY&symbol={0}&apikey={1}&outputsize={2}'.format(symbol,apikey,data_size)\n",
        "    r = requests.get(url)\n",
        "    data = r.json()\n",
        "    return data\n",
        "# read data into pandas df and change schema and add symbol\n",
        "def transform_stock_data(data):\n",
        "    df = (\n",
        "        pd.DataFrame(data['Time Series (Daily)'])\n",
        "        .transpose()\n",
        "        .reset_index()\n",
        "        .rename(columns={\"index\":'date',\"1. open\":'open',\"2. high\":\"high\",\"3. low\":\"low\",\"4. close\":\"close\",\"5. volume\":\"volume\"})\n",
        "    )\n",
        "    # add symbol\n",
        "    df['symbol']=data['Meta Data']['2. Symbol']\n",
        "    return df\n",
        "\n",
        "# join data frame and load into csv\n",
        "def concate_df (dataframe_list):\n",
        "    united_df = pd.concat(dataframe_list)\n",
        "    return united_df\n",
        "\n",
        "# turn pandas df into spark datafrme and change scheme\n",
        "def read_into_sp(dataframe):\n",
        "    result = (\n",
        "    spark.createDataFrame(dataframe)\n",
        "    .withColumn(\"date\", f.to_date(f.col('date'), \"yyyy-MM-dd\"))\n",
        "    .withColumn(\"open\",f.col('open').cast(FloatType()))\n",
        "    .withColumn(\"high\",f.col('high').cast(FloatType()))\n",
        "    .withColumn(\"low\",f.col('low').cast(FloatType()))\n",
        "    .withColumn(\"close\",f.col('close').cast(FloatType()))\n",
        "    .withColumn(\"volume\",f.col('volume').cast(FloatType()))\n",
        "    )\n",
        "    return result"
      ]
    },
    {
      "cell_type": "code",
      "execution_count": 2,
      "outputs": [],
      "metadata": {},
      "source": [
        "if __name__ == \"__main__\":\n",
        "    # get apikey from key-vault \n",
        "    apikey = mssparkutils.credentials.getSecret('synapse-key123','alphavantage-key')\n",
        "    #data size compact = 100 data points and full data from previous 20 years\n",
        "    data_size='full'\n",
        "    # set up target ticker \n",
        "    symbol_list=['NVDA','AMD','INTC','QCOM','GOOG','MSFT','AMZN','AAPL']\n",
        "    # get data from api\n",
        "    stock_data = [get_stock_data(symbol,apikey,data_size) for symbol in symbol_list]\n",
        "    # transfrom json into data frame\n",
        "    transformed_df_list = [transform_stock_data(data) for data in stock_data]\n",
        "    final_df = concate_df (transformed_df_list)\n",
        "    final_df_sp = read_into_sp(final_df)\n",
        "    print('load data into filepath')\n",
        "    #add year column  \n",
        "    add_year = final_df_sp.withColumn('year',f.year(f.col('date')))\n",
        "    file_path ='abfss://files@datalake9vbgk2l.dfs.core.windows.net/synapse/workspaces/data/stock_price'\n",
        "    add_year.write.option(\"header\", True).csv(file_path,mode='overwrite')"
      ]
    }
  ],
  "metadata": {
    "description": null,
    "save_output": true,
    "language_info": {
      "name": "python"
    }
  }
}