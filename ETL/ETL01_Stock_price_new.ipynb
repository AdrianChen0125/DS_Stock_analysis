{
  "cells": [
    {
      "cell_type": "code",
      "source": [
        "!pip install yfinance"
      ],
      "outputs": [
        {
          "output_type": "display_data",
          "data": {
            "application/vnd.livy.statement-meta+json": {
              "spark_pool": "spark001",
              "session_id": "13",
              "statement_id": 2,
              "statement_ids": [
                2
              ],
              "state": "finished",
              "livy_statement_state": "available",
              "queued_time": "2024-06-22T13:34:58.0658255Z",
              "session_start_time": "2024-06-22T13:34:58.1027307Z",
              "execution_start_time": "2024-06-22T13:35:47.1015643Z",
              "execution_finish_time": "2024-06-22T13:36:07.9598638Z",
              "spark_jobs": null,
              "parent_msg_id": "72333af9-382b-4890-b70f-fbcf93dc939b"
            },
            "text/plain": "StatementMeta(spark001, 13, 2, Finished, Available)"
          },
          "metadata": {}
        },
        {
          "output_type": "stream",
          "name": "stdout",
          "text": [
            "Collecting yfinance\n  Downloading yfinance-0.2.40-py2.py3-none-any.whl (73 kB)\n\u001b[2K     \u001b[90m━━━━━━━━━━━━━━━━━━━━━━━━━━━━━━━━━━━━━━━━\u001b[0m \u001b[32m73.5/73.5 kB\u001b[0m \u001b[31m8.0 MB/s\u001b[0m eta \u001b[36m0:00:00\u001b[0m\n\u001b[?25hRequirement already satisfied: pandas>=1.3.0 in /home/trusted-service-user/cluster-env/env/lib/python3.10/site-packages (from yfinance) (1.5.3)\nRequirement already satisfied: numpy>=1.16.5 in /home/trusted-service-user/cluster-env/env/lib/python3.10/site-packages (from yfinance) (1.23.5)\nRequirement already satisfied: requests>=2.31 in /home/trusted-service-user/cluster-env/env/lib/python3.10/site-packages (from yfinance) (2.31.0)\nCollecting multitasking>=0.0.7 (from yfinance)\n  Downloading multitasking-0.0.11-py3-none-any.whl (8.5 kB)\nRequirement already satisfied: lxml>=4.9.1 in /home/trusted-service-user/cluster-env/env/lib/python3.10/site-packages (from yfinance) (5.1.0)\nRequirement already satisfied: platformdirs>=2.0.0 in /home/trusted-service-user/cluster-env/env/lib/python3.10/site-packages (from yfinance) (3.11.0)\nRequirement already satisfied: pytz>=2022.5 in /home/trusted-service-user/cluster-env/env/lib/python3.10/site-packages (from yfinance) (2023.4)\nCollecting frozendict>=2.3.4 (from yfinance)\n  Downloading frozendict-2.4.4-cp310-cp310-manylinux_2_17_x86_64.manylinux2014_x86_64.whl (117 kB)\n\u001b[2K     \u001b[90m━━━━━━━━━━━━━━━━━━━━━━━━━━━━━━━━━━━━━━\u001b[0m \u001b[32m117.3/117.3 kB\u001b[0m \u001b[31m26.9 MB/s\u001b[0m eta \u001b[36m0:00:00\u001b[0m\n\u001b[?25hCollecting peewee>=3.16.2 (from yfinance)\n  Downloading peewee-3.17.5.tar.gz (3.0 MB)\n\u001b[2K     \u001b[90m━━━━━━━━━━━━━━━━━━━━━━━━━━━━━━━━━━━━━━━━\u001b[0m \u001b[32m3.0/3.0 MB\u001b[0m \u001b[31m79.0 MB/s\u001b[0m eta \u001b[36m0:00:00\u001b[0m:00:01\u001b[0m\n\u001b[?25h  Installing build dependencies ... \u001b[?25l-\b \b\\\b \b|\b \b/\b \bdone\n\u001b[?25h  Getting requirements to build wheel ... \u001b[?25l-\b \bdone\n\u001b[?25h  Preparing metadata (pyproject.toml) ... \u001b[?25l-\b \bdone\n\u001b[?25hRequirement already satisfied: beautifulsoup4>=4.11.1 in /home/trusted-service-user/cluster-env/env/lib/python3.10/site-packages (from yfinance) (4.12.2)\nRequirement already satisfied: html5lib>=1.1 in /home/trusted-service-user/cluster-env/env/lib/python3.10/site-packages (from yfinance) (1.1)\nRequirement already satisfied: soupsieve>1.2 in /home/trusted-service-user/cluster-env/env/lib/python3.10/site-packages (from beautifulsoup4>=4.11.1->yfinance) (2.5)\nRequirement already satisfied: six>=1.9 in /home/trusted-service-user/cluster-env/env/lib/python3.10/site-packages (from html5lib>=1.1->yfinance) (1.16.0)\nRequirement already satisfied: webencodings in /home/trusted-service-user/cluster-env/env/lib/python3.10/site-packages (from html5lib>=1.1->yfinance) (0.5.1)\nRequirement already satisfied: python-dateutil>=2.8.1 in /home/trusted-service-user/cluster-env/env/lib/python3.10/site-packages (from pandas>=1.3.0->yfinance) (2.9.0)\nRequirement already satisfied: charset-normalizer<4,>=2 in /home/trusted-service-user/cluster-env/env/lib/python3.10/site-packages (from requests>=2.31->yfinance) (3.3.2)\nRequirement already satisfied: idna<4,>=2.5 in /home/trusted-service-user/cluster-env/env/lib/python3.10/site-packages (from requests>=2.31->yfinance) (3.6)\nRequirement already satisfied: urllib3<3,>=1.21.1 in /home/trusted-service-user/cluster-env/env/lib/python3.10/site-packages (from requests>=2.31->yfinance) (2.1.0)\nRequirement already satisfied: certifi>=2017.4.17 in /home/trusted-service-user/cluster-env/env/lib/python3.10/site-packages (from requests>=2.31->yfinance) (2024.2.2)\nBuilding wheels for collected packages: peewee\n  Building wheel for peewee (pyproject.toml) ... \u001b[?25l-\b \b\\\b \b|\b \b/\b \bdone\n\u001b[?25h  Created wheel for peewee: filename=peewee-3.17.5-cp310-cp310-linux_x86_64.whl size=275237 sha256=7f056098a76a1f12ac52a08c75ce82157d10854831591fdac2354bdc5787de29\n  Stored in directory: /home/trusted-service-user/.cache/pip/wheels/06/80/9b/98db0d58349a2f5c09f8406789ade4270762f97b7d26f2fa22\nSuccessfully built peewee\nInstalling collected packages: peewee, multitasking, frozendict, yfinance\nSuccessfully installed frozendict-2.4.4 multitasking-0.0.11 peewee-3.17.5 yfinance-0.2.40\n"
          ]
        }
      ],
      "execution_count": 3,
      "metadata": {
        "jupyter": {
          "source_hidden": false,
          "outputs_hidden": false
        },
        "nteract": {
          "transient": {
            "deleting": false
          }
        }
      }
    },
    {
      "cell_type": "code",
      "source": [
        "import yfinance as yf\r\n",
        "from pyspark.sql.types import *\r\n",
        "from pyspark.sql import functions as f\r\n",
        "import requests\r\n",
        "import pandas as pd \r\n",
        "import datetime\r\n",
        "from notebookutils import mssparkutils"
      ],
      "outputs": [
        {
          "output_type": "display_data",
          "data": {
            "application/vnd.livy.statement-meta+json": {
              "spark_pool": "spark001",
              "session_id": "13",
              "statement_id": 3,
              "statement_ids": [
                3
              ],
              "state": "finished",
              "livy_statement_state": "available",
              "queued_time": "2024-06-22T13:36:17.3395981Z",
              "session_start_time": null,
              "execution_start_time": "2024-06-22T13:36:17.4590562Z",
              "execution_finish_time": "2024-06-22T13:36:19.2556627Z",
              "spark_jobs": null,
              "parent_msg_id": "ed39dc6d-49e3-45e7-8748-6d1acc46a7ad"
            },
            "text/plain": "StatementMeta(spark001, 13, 3, Finished, Available)"
          },
          "metadata": {}
        }
      ],
      "execution_count": 4,
      "metadata": {
        "jupyter": {
          "source_hidden": false,
          "outputs_hidden": false
        },
        "nteract": {
          "transient": {
            "deleting": false
          }
        }
      }
    },
    {
      "cell_type": "code",
      "source": [
        "def get_stock_price(symbol_list,start_date,end_date):\r\n",
        "    historical_data = {}\r\n",
        "    for symbol in symbol_list:\r\n",
        "        ticker = yf.Ticker(symbol)\r\n",
        "        data = ticker.history(start=start_date, end=end_date)\r\n",
        "        historical_data[symbol] = data\r\n",
        "\r\n",
        "    return historical_data\r\n",
        "\r\n",
        "def transform_df(historical_data,symbol_list):\r\n",
        "    dfs=[]\r\n",
        "    for symbol in symbol_list:\r\n",
        "        df = pd.DataFrame(historical_data[symbol])\r\n",
        "        df['symbol']= symbol\r\n",
        "        dfs.append(df)\r\n",
        "    df = pd.concat(dfs).reset_index()\r\n",
        "    df['Date'] = df['Date'].dt.date\r\n",
        "    return df "
      ],
      "outputs": [
        {
          "output_type": "display_data",
          "data": {
            "application/vnd.livy.statement-meta+json": {
              "spark_pool": "spark001",
              "session_id": "13",
              "statement_id": 37,
              "statement_ids": [
                37
              ],
              "state": "finished",
              "livy_statement_state": "available",
              "queued_time": "2024-06-22T14:02:57.7175143Z",
              "session_start_time": null,
              "execution_start_time": "2024-06-22T14:02:57.8432994Z",
              "execution_finish_time": "2024-06-22T14:02:57.9964415Z",
              "spark_jobs": null,
              "parent_msg_id": "1c25cf82-6503-4255-85a8-c567c467df17"
            },
            "text/plain": "StatementMeta(spark001, 13, 37, Finished, Available)"
          },
          "metadata": {}
        }
      ],
      "execution_count": 38,
      "metadata": {}
    },
    {
      "cell_type": "code",
      "source": [
        "if __name__ == \"__main__\":\r\n",
        "\r\n",
        "    symbol_list=['NVDA','AMD','INTC','QCOM','GOOG','MSFT','AMZN','AAPL']\r\n",
        "    \r\n",
        "    end_date = datetime.datetime.now()\r\n",
        "    start_date = end_date-datetime.timedelta(days=2*365)\r\n",
        "    historical_data = get_stock_price(symbol_list,start_date,end_date)\r\n",
        "\r\n",
        "    pdf = transform_df(historical_data,symbol_list)\r\n",
        "    sp_df = spark.createDataFrame(pdf)\r\n",
        "    file_path ='abfss://files@datalake9vbgk2l.dfs.core.windows.net/synapse/workspaces/data/stock_price'\r\n",
        "    sp_df.write.option(\"header\", True).csv(file_path,mode='overwrite')"
      ],
      "outputs": [
        {
          "output_type": "display_data",
          "data": {
            "application/vnd.livy.statement-meta+json": {
              "spark_pool": "spark001",
              "session_id": "13",
              "statement_id": 38,
              "statement_ids": [
                38
              ],
              "state": "finished",
              "livy_statement_state": "available",
              "queued_time": "2024-06-22T14:03:00.3871831Z",
              "session_start_time": null,
              "execution_start_time": "2024-06-22T14:03:00.4887319Z",
              "execution_finish_time": "2024-06-22T14:03:11.0230817Z",
              "spark_jobs": null,
              "parent_msg_id": "ce97299b-97da-4531-92c9-b6fca5f15ae5"
            },
            "text/plain": "StatementMeta(spark001, 13, 38, Finished, Available)"
          },
          "metadata": {}
        }
      ],
      "execution_count": 39,
      "metadata": {
        "jupyter": {
          "source_hidden": false,
          "outputs_hidden": false
        },
        "nteract": {
          "transient": {
            "deleting": false
          }
        }
      }
    }
  ],
  "metadata": {
    "kernelspec": {
      "name": "synapse_pyspark",
      "display_name": "Synapse PySpark"
    },
    "language_info": {
      "name": "python"
    },
    "save_output": true,
    "synapse_widget": {
      "version": "0.1",
      "state": {}
    }
  },
  "nbformat": 4,
  "nbformat_minor": 2
}