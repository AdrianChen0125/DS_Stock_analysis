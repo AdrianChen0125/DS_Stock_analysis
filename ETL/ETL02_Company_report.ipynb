{
  "nbformat": 4,
  "nbformat_minor": 2,
  "cells": [
    {
      "cell_type": "markdown",
      "metadata": {},
      "source": [
        "## ETL02_Company_report"
      ]
    },
    {
      "cell_type": "code",
      "execution_count": 1,
      "outputs": [],
      "metadata": {},
      "source": [
        "from pyspark.sql.types import *\n",
        "from pyspark.sql import functions as f\n",
        "import requests\n",
        "import pandas as pd \n",
        "from notebookutils import mssparkutils\n",
        "\n",
        "# get data from api \n",
        "def get_stock_data(symbol,limit,apikey):\n",
        "    url ='https://financialmodelingprep.com/api/v3/income-statement-as-reported/{0}?period=annual&limit={1}&apikey={2}'.format(symbol,limit,apikey)\n",
        "    r = requests.get(url)\n",
        "    data = r.json()\n",
        "    return data\n",
        "    \n",
        "# read data into pandas df and change schema and add symbol\n",
        "def transform_stock_data(data):\n",
        "    df = (pd.DataFrame(data))\n",
        "    return df\n",
        "\n",
        "# join data frame and load into csv\n",
        "def concate_df(dataframe_list):\n",
        "    united_df = pd.concat(dataframe_list)\n",
        "    return united_df\n",
        "\n",
        "# turn pandas df into spark datafrme and change scheme\n",
        "def read_into_sp(dataframe):\n",
        "    result = (spark.createDataFrame(dataframe))\n",
        "    return result\n",
        ""
      ]
    },
    {
      "cell_type": "code",
      "execution_count": 2,
      "outputs": [],
      "metadata": {
        "jupyter": {
          "source_hidden": false,
          "outputs_hidden": false
        },
        "nteract": {
          "transient": {
            "deleting": false
          }
        }
      },
      "source": [
        "if __name__ == \"__main__\":\r\n",
        "    # adls_path = \"adl://<your-storage-account>.azuredatalakegen2.net/<path-to-folder>/output.parquet\"\r\n",
        "    apikey = mssparkutils.credentials.getSecret('synapse-key123','fmp-key')\r\n",
        "    #data size compact = 100 data points and full data from previous 20 years\r\n",
        "    limit = 5\r\n",
        "    # set up target ticker \r\n",
        "    symbol_list=['NVDA','AMD','INTC','QCOM','GOOG','MSFT','AMZN','AAPL']\r\n",
        "    # get data from api\r\n",
        "    stock_data = [get_stock_data(symbol,limit,apikey) for symbol in symbol_list]\r\n",
        "    # transfrom json into data frame\r\n",
        "    transformed_df_list = [transform_stock_data(data) for data in stock_data]\r\n",
        "    final_df = concate_df(transformed_df_list)\r\n",
        "    final_df_sp = read_into_sp(final_df)\r\n",
        "    print('load data into filepath')\r\n",
        "    #add year \r\n",
        "    add_year = final_df_sp.withColumn('year',f.year(f.col('date')))\r\n",
        "    file_path ='abfss://files@datalake9vbgk2l.dfs.core.windows.net/synapse/workspaces/data/company_report/'\r\n",
        "    add_year.write.option(\"header\", True).csv(file_path,mode='overwrite')"
      ]
    }
  ],
  "metadata": {
    "description": null,
    "save_output": true,
    "language_info": {
      "name": "python"
    }
  }
}