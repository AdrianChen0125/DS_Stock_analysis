{
 "cells": [
  {
   "cell_type": "markdown",
   "id": "a39d6dcf",
   "metadata": {},
   "source": [
    "# Exatract overview of company "
   ]
  },
  {
   "cell_type": "code",
   "execution_count": 1,
   "id": "6609ed1e-f14f-440f-a67c-4c7b4d16722d",
   "metadata": {},
   "outputs": [],
   "source": [
    "import requests\n",
    "import pandas as pd"
   ]
  },
  {
   "cell_type": "code",
   "execution_count": 4,
   "id": "563fdadb-1514-41ae-bb9d-eee06364e85d",
   "metadata": {},
   "outputs": [],
   "source": [
    "def get_data(function,symbol,apikey,data_size):\n",
    "    url = 'https://www.alphavantage.co/query?function={0}&symbol={1}&apikey={2}&outputsize={3}'.format(function,symbol,apikey,data_size)\n",
    "    r = requests.get(url)\n",
    "    data = r.json()\n",
    "    return data"
   ]
  },
  {
   "cell_type": "code",
   "execution_count": 5,
   "id": "68ea1f8b",
   "metadata": {},
   "outputs": [],
   "source": [
    "function='OVERVIEW'\n",
    "symbol='NVDA'\n",
    "apikey='YGCUCM7FNF36SZJ0'\n",
    "data_size='full'\n",
    "company_data = get_data(function,symbol,apikey,data_size)"
   ]
  },
  {
   "cell_type": "code",
   "execution_count": 11,
   "id": "783122cb",
   "metadata": {},
   "outputs": [
    {
     "data": {
      "text/plain": [
       "dict_keys(['Symbol', 'AssetType', 'Name', 'Description', 'CIK', 'Exchange', 'Currency', 'Country', 'Sector', 'Industry', 'Address', 'FiscalYearEnd', 'LatestQuarter', 'MarketCapitalization', 'EBITDA', 'PERatio', 'PEGRatio', 'BookValue', 'DividendPerShare', 'DividendYield', 'EPS', 'RevenuePerShareTTM', 'ProfitMargin', 'OperatingMarginTTM', 'ReturnOnAssetsTTM', 'ReturnOnEquityTTM', 'RevenueTTM', 'GrossProfitTTM', 'DilutedEPSTTM', 'QuarterlyEarningsGrowthYOY', 'QuarterlyRevenueGrowthYOY', 'AnalystTargetPrice', 'AnalystRatingStrongBuy', 'AnalystRatingBuy', 'AnalystRatingHold', 'AnalystRatingSell', 'AnalystRatingStrongSell', 'TrailingPE', 'ForwardPE', 'PriceToSalesRatioTTM', 'PriceToBookRatio', 'EVToRevenue', 'EVToEBITDA', 'Beta', '52WeekHigh', '52WeekLow', '50DayMovingAverage', '200DayMovingAverage', 'SharesOutstanding', 'DividendDate', 'ExDividendDate'])"
      ]
     },
     "execution_count": 11,
     "metadata": {},
     "output_type": "execute_result"
    }
   ],
   "source": [
    "company_data."
   ]
  },
  {
   "cell_type": "code",
   "execution_count": 58,
   "id": "3973a532-6144-4820-8847-c95dac9d2b0f",
   "metadata": {},
   "outputs": [],
   "source": [
    "def transform_stock_data(data):\n",
    "    df = (\n",
    "        pd.DataFrame(data['Time Series (Daily)'])\n",
    "        .transpose()\n",
    "        .reset_index()\n",
    "        .rename(columns={\"index\":'date',\"1. open\":'open',\"2. high\":\"high\",\"3. low\":\"low\",\"4. close\":\"close\",\"5. volume\":\"volume\"})\n",
    "    )\n",
    "    # add symbol\n",
    "    df['symbol']=data['Meta Data']['2. Symbol']\n",
    "    return df\n",
    "    "
   ]
  },
  {
   "cell_type": "code",
   "execution_count": 63,
   "id": "d35ad1ff-82b0-4f8c-a884-5d0c1c7318f5",
   "metadata": {},
   "outputs": [],
   "source": [
    "# join data frame and load into csv\n",
    "def load_data (dataframe_list):\n",
    "    united_df = pd.concat(dataframe_list)\n",
    "    united_df.to_csv('stock_data.csv',index=False)\n",
    "    print(\"load into targeting file path\")"
   ]
  },
  {
   "cell_type": "code",
   "execution_count": 62,
   "id": "ab7191f6-9125-4849-b7f8-4ed570ef61a3",
   "metadata": {},
   "outputs": [
    {
     "name": "stdout",
     "output_type": "stream",
     "text": [
      "load into targeting file path\n"
     ]
    }
   ],
   "source": [
    "if __name__ == \"__main__\":\n",
    "    \n",
    "    apikey='YGCUCM7FNF36SZJ0'\n",
    "    #data size compact = 100 data points and full data from previous 20 years\n",
    "    data_size='full'\n",
    "    # set up target ticker \n",
    "    symbol_list=['NVDA','AMD','INTC','QCOM']\n",
    "    # get data from api\n",
    "    stock_data = [get_stock_data(symbol,apikey,data_size) for symbol in symbol_list]\n",
    "    # transfrom json into data frame\n",
    "    transformed_df_list = [transform_stock_data(data) for data in stock_data]\n",
    "    load_data (transformed_df_list)"
   ]
  }
 ],
 "metadata": {
  "kernelspec": {
   "display_name": "Python 3 (ipykernel)",
   "language": "python",
   "name": "python3"
  },
  "language_info": {
   "codemirror_mode": {
    "name": "ipython",
    "version": 3
   },
   "file_extension": ".py",
   "mimetype": "text/x-python",
   "name": "python",
   "nbconvert_exporter": "python",
   "pygments_lexer": "ipython3",
   "version": "3.11.4"
  }
 },
 "nbformat": 4,
 "nbformat_minor": 5
}
