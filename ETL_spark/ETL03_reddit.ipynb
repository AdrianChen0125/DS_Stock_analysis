{
 "cells": [
  {
   "cell_type": "code",
   "execution_count": 39,
   "id": "06f7655d-c138-463c-a672-e4af89e0c52e",
   "metadata": {},
   "outputs": [],
   "source": [
    "# from pyspark.sql.types import *\n",
    "# from pyspark.sql import functions as f\n",
    "import requests\n",
    "import pandas as pd \n",
    "import datetime"
   ]
  },
  {
   "cell_type": "code",
   "execution_count": 40,
   "id": "cf3caf51-78f5-4f42-b7e0-336abd4f3378",
   "metadata": {},
   "outputs": [],
   "source": [
    "# import raddit library\n",
    "try:\n",
    "    import praw\n",
    "except:\n",
    "    get_ipython().system('pip install praw')\n",
    "    import praw\n",
    "    \n",
    "from praw.models import MoreComments"
   ]
  },
  {
   "cell_type": "code",
   "execution_count": 41,
   "id": "5e47bbba-8154-456f-9b36-fca1fe4cabaa",
   "metadata": {},
   "outputs": [],
   "source": [
    "# set up The Reddit Instance\n",
    "def set_up_reddit():\n",
    "    user_agent='scraper 1.0 by /u/Adrian_10511'\n",
    "    reddit= praw.Reddit(\n",
    "        client_id='ZSsuFt18m9u6PnXJJwjF1A',\n",
    "        client_secret='cKPHnxi_E9gr7HM5DKdO-XU7nFdO2w',\n",
    "        user_agent = user_agent\n",
    "    )\n",
    "    return reddit\n",
    "    \n",
    "# set up query\n",
    "def search_post(query,reddit,subreddit='stocks',limit_=100):\n",
    "    search_query=query\n",
    "    subreddit_name = subreddit\n",
    "    results = reddit.subreddit(subreddit_name).search(search_query, limit=limit_)\n",
    "    \n",
    "    # change result into dataframe\n",
    "    data=[]\n",
    "    for submission in results:\n",
    "        data.append({\n",
    "            'Title': submission.title,\n",
    "            'Score': submission.score,\n",
    "            'ID': submission.id,\n",
    "            'URL': submission.url,\n",
    "            'Created': submission.created_utc,\n",
    "            'Number of Comments': submission.num_comments\n",
    "        })\n",
    "    post_df = pd.DataFrame(data)\n",
    "    post_df['Created'] = pd.to_datetime(post_df['Created'], unit='s')\n",
    "    return post_df\n",
    "\n",
    "def extract_comment(df,symbol,day=30):\n",
    "    end_date = datetime.datetime.now()\n",
    "    start_date = x-datetime.timedelta(days=day)\n",
    "    # Filter the post based on the date range\n",
    "    filtered_df = df[(df['Created'] >= start_date) & (df['Created'] <= end_date)].sort_values(by=['Created'],ascending=False)\n",
    "\n",
    "    # extract df \n",
    "    cmt_list=[]\n",
    "    for post_id in filtered_df['ID']:\n",
    "        for top_level_comment in reddit.submission(post_id).comments:\n",
    "            if isinstance(top_level_comment, MoreComments):\n",
    "                continue\n",
    "            cmt_list.append({\n",
    "                'created_utc':top_level_comment.created_utc,\n",
    "                'comment':top_level_comment.body\n",
    "                })\n",
    "            \n",
    "    # turn into dataframe \n",
    "    cmt_df = pd.DataFrame(cmt_list)\n",
    "    cmt_df['created_utc'] = pd.to_datetime(cmt_df['created_utc'], unit='s')\n",
    "    cmt_df['symbol']= symbol\n",
    "    sort_by_date = cmt_df.sort_values(by=['created_utc'],ascending=False).reset_index(drop=True)\n",
    "    \n",
    "    \n",
    "    return sort_by_date"
   ]
  },
  {
   "cell_type": "code",
   "execution_count": 42,
   "id": "75c3cb8a-4181-4c69-a25e-c66f157c3da5",
   "metadata": {},
   "outputs": [],
   "source": [
    "if __name__ == \"__main__\":\n",
    "    # set up target ticker \n",
    "    symbol_list=['NVDA','AMD','INTC','QCOM','GOOG','MSFT','AMZN','AAPL']\n",
    "    \n",
    "    reddit = set_up_reddit()\n",
    "    list_cm  = [extract_comment(search_post(symbol,reddit),symbol) for symbol in symbol_list]\n",
    "    all_cm_df = pd.concat(list_cm)\n",
    "    \n",
    "    # file_path ='abfss://files@datalakehuv7g91.dfs.core.windows.net/company_report/'\n",
    "    # add_year.write.parquet(file_path,partitionBy='symbol',mode='overwrite')"
   ]
  }
 ],
 "metadata": {
  "kernelspec": {
   "display_name": "Python 3 (ipykernel)",
   "language": "python",
   "name": "python3"
  },
  "language_info": {
   "codemirror_mode": {
    "name": "ipython",
    "version": 3
   },
   "file_extension": ".py",
   "mimetype": "text/x-python",
   "name": "python",
   "nbconvert_exporter": "python",
   "pygments_lexer": "ipython3",
   "version": "3.11.9"
  }
 },
 "nbformat": 4,
 "nbformat_minor": 5
}
